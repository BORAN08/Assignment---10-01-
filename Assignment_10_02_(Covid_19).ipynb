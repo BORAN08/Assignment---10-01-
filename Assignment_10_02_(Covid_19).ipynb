{
  "nbformat": 4,
  "nbformat_minor": 0,
  "metadata": {
    "colab": {
      "name": "Assignment - 10/02 (Covid-19 Risk with If Statements).ipynb",
      "provenance": [],
      "collapsed_sections": []
    },
    "kernelspec": {
      "name": "python3",
      "display_name": "Python 3"
    },
    "language_info": {
      "name": "python"
    }
  },
  "cells": [
    {
      "cell_type": "code",
      "metadata": {
        "colab": {
          "base_uri": "https://localhost:8080/"
        },
        "id": "4-kmK405-Zn3",
        "outputId": "1feb17bd-70b0-4476-e13a-35c3c8e33b5e"
      },
      "source": [
        "age = eval(input(\"Are you a cigarette addict older than 75 years old?(True/False): \"))\n",
        "chronic = eval(input(\"Do you have a severe chronic disease?(True/False): \"))\n",
        "immune = eval(input(\"Is your immune system too weak?(True/False):\"))\n",
        "if age==False and chronic==False and immune==False:\n",
        "  print(\"You are not in risky group\")\n",
        "else:\n",
        "  print(\"You are in risky group\")\n"
      ],
      "execution_count": null,
      "outputs": [
        {
          "output_type": "stream",
          "name": "stdout",
          "text": [
            "Are you a cigarette addict older than 75 years old?(True/False): False\n",
            "Do you have a severe chronic disease?(True/False): False\n",
            "Is your immune system too weak?(True/False):True\n",
            "You are in risky group\n"
          ]
        }
      ]
    },
    {
      "cell_type": "markdown",
      "metadata": {
        "id": "vJniE6NjLPRy"
      },
      "source": [
        "https://github.com/BORAN08/Assignment---10-01-/blob/main/Assignment_10_02_(Covid_19_Risk_with_If_Statements).ipynb"
      ]
    },
    {
      "cell_type": "code",
      "metadata": {
        "id": "9F-N5BbI_Zo_"
      },
      "source": [
        ""
      ],
      "execution_count": null,
      "outputs": []
    }
  ]
}