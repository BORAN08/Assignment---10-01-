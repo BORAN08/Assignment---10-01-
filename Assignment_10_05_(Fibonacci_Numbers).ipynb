{
  "nbformat": 4,
  "nbformat_minor": 0,
  "metadata": {
    "colab": {
      "name": "Assignment - 10/05 (Fibonacci Numbers).ipynb",
      "provenance": [],
      "authorship_tag": "ABX9TyNS9Bl05jajRDQ+DWACLcCG",
      "include_colab_link": true
    },
    "kernelspec": {
      "name": "python3",
      "display_name": "Python 3"
    },
    "language_info": {
      "name": "python"
    }
  },
  "cells": [
    {
      "cell_type": "markdown",
      "metadata": {
        "id": "view-in-github",
        "colab_type": "text"
      },
      "source": [
        "<a href=\"https://colab.research.google.com/github/BORAN08/Assignment_cohort10/blob/main/Assignment_10_05_(Fibonacci_Numbers).ipynb\" target=\"_parent\"><img src=\"https://colab.research.google.com/assets/colab-badge.svg\" alt=\"Open In Colab\"/></a>"
      ]
    },
    {
      "cell_type": "code",
      "metadata": {
        "colab": {
          "base_uri": "https://localhost:8080/"
        },
        "id": "Kc8gWq3PipU5",
        "outputId": "2b70a916-d5e3-43bb-d760-2ef51d9fa383"
      },
      "source": [
        "def fibonacci(y):\n",
        "  fibo_list=[1,1]\n",
        "  for i in range(y):\n",
        "    fibo_list.append(fibo_list[-1]+fibo_list[-2])\n",
        "    if fibo_list[-1]==y:\n",
        "      break\n",
        "  return fibo_list\n",
        "fibonacci(55)"
      ],
      "execution_count": 10,
      "outputs": [
        {
          "output_type": "execute_result",
          "data": {
            "text/plain": [
              "[1, 1, 2, 3, 5, 8, 13, 21, 34, 55]"
            ]
          },
          "metadata": {},
          "execution_count": 10
        }
      ]
    },
    {
      "cell_type": "code",
      "metadata": {
        "id": "I0TGrL3Xj2WM"
      },
      "source": [
        ""
      ],
      "execution_count": null,
      "outputs": []
    }
  ]
}