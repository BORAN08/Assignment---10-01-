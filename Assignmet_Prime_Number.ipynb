{
  "nbformat": 4,
  "nbformat_minor": 0,
  "metadata": {
    "colab": {
      "name": "Assignmet_Prime_Number.ipynb",
      "provenance": [],
      "collapsed_sections": []
    },
    "kernelspec": {
      "name": "python3",
      "display_name": "Python 3"
    },
    "language_info": {
      "name": "python"
    }
  },
  "cells": [
    {
      "cell_type": "code",
      "metadata": {
        "colab": {
          "base_uri": "https://localhost:8080/"
        },
        "id": "dgpquWJrOqU_",
        "outputId": "9aa9ea13-33a5-4912-e927-0bda6dd7f061"
      },
      "source": [
        "def prime_number(n):\n",
        "  if n<2:\n",
        "    print(f\"{n} is not prime number\")\n",
        "  else:\n",
        "    for i in range(2,(n//2)+1):\n",
        "      if n%i==0:\n",
        "        print(f\"{n} is not prime number\")\n",
        "        break\n",
        "    else:\n",
        "      print(f\"{n} is prime number\")\n",
        "prime_number(int(input(\"Please enter a nuber :\")))"
      ],
      "execution_count": 67,
      "outputs": [
        {
          "output_type": "stream",
          "name": "stdout",
          "text": [
            "Please enter a nuber :83\n",
            "83 is prime number\n"
          ]
        }
      ]
    },
    {
      "cell_type": "code",
      "metadata": {
        "id": "N7RlZI8JbQp_"
      },
      "source": [
        ""
      ],
      "execution_count": null,
      "outputs": []
    }
  ]
}