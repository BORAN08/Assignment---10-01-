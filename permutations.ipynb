{
  "nbformat": 4,
  "nbformat_minor": 0,
  "metadata": {
    "colab": {
      "name": "permutations.ipynb",
      "provenance": []
    },
    "kernelspec": {
      "name": "python3",
      "display_name": "Python 3"
    },
    "language_info": {
      "name": "python"
    }
  },
  "cells": [
    {
      "cell_type": "markdown",
      "source": [
        "Here is another interview question of Python code challenge.\n",
        "Problem :\n",
        "\n",
        "\n",
        "Given a collection of distinct integers, return all possible permutations. This example has three elements but solution should cover all possible element numbers.\n",
        "\n",
        "Example: Input:\n",
        "\n",
        "[1,2,3]\n",
        "\n",
        "Output:\n",
        "\n",
        "[ [1,2,3], [1,3,2], [2,1,3], [2,3,1], [3,1,2], [3,2,1] ]"
      ],
      "metadata": {
        "id": "yr18lJMBbxxi"
      }
    },
    {
      "cell_type": "code",
      "execution_count": 6,
      "metadata": {
        "colab": {
          "base_uri": "https://localhost:8080/"
        },
        "id": "VkoOxZnDy1wL",
        "outputId": "e94fe723-7600-4007-d510-d4a81966a5f1"
      },
      "outputs": [
        {
          "output_type": "execute_result",
          "data": {
            "text/plain": [
              "[[1, 2, 3], [1, 3, 2], [2, 1, 3], [2, 3, 1], [3, 1, 2], [3, 2, 1]]"
            ]
          },
          "metadata": {},
          "execution_count": 6
        }
      ],
      "source": [
        "import itertools\n",
        "a=[1,2,3]\n",
        "[[*i] for i in itertools.permutations(a)]"
      ]
    }
  ]
}