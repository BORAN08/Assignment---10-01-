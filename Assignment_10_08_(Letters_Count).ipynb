{
  "nbformat": 4,
  "nbformat_minor": 0,
  "metadata": {
    "colab": {
      "name": "Assignment - 10/08 (Letters Count).ipynb",
      "provenance": []
    },
    "kernelspec": {
      "name": "python3",
      "display_name": "Python 3"
    },
    "language_info": {
      "name": "python"
    }
  },
  "cells": [
    {
      "cell_type": "code",
      "execution_count": 8,
      "metadata": {
        "colab": {
          "base_uri": "https://localhost:8080/"
        },
        "id": "4Hug2nYDcZsZ",
        "outputId": "491445cd-94ee-406e-a2a5-0ea700297a69"
      },
      "outputs": [
        {
          "output_type": "execute_result",
          "data": {
            "text/plain": [
              "{' ': 3,\n",
              " '!': 1,\n",
              " 'h': 1,\n",
              " 'i': 1,\n",
              " 'n': 1,\n",
              " 'o': 2,\n",
              " 'p': 2,\n",
              " 'r': 1,\n",
              " 's': 2,\n",
              " 't': 1,\n",
              " 'u': 2}"
            ]
          },
          "metadata": {},
          "execution_count": 8
        }
      ],
      "source": [
        "def count_letter(text):\n",
        "  letter_dict={}\n",
        "  for i in text:\n",
        "    letter_dict.setdefault(i,text.count(i))\n",
        "  return letter_dict\n",
        "count_letter(\"hippo runs to us!\")"
      ]
    },
    {
      "cell_type": "code",
      "source": [
        "def count_letter(text):\n",
        "  letter_dict={i:text.count(i) for i in text}\n",
        "  return letter_dict\n",
        "count_letter(\"hippo runs to us!\")"
      ],
      "metadata": {
        "colab": {
          "base_uri": "https://localhost:8080/"
        },
        "id": "iiStzaNsiWYr",
        "outputId": "04d0cfb3-5450-4826-afea-86f7708597bd"
      },
      "execution_count": 20,
      "outputs": [
        {
          "output_type": "execute_result",
          "data": {
            "text/plain": [
              "{' ': 3,\n",
              " '!': 1,\n",
              " 'h': 1,\n",
              " 'i': 1,\n",
              " 'n': 1,\n",
              " 'o': 2,\n",
              " 'p': 2,\n",
              " 'r': 1,\n",
              " 's': 2,\n",
              " 't': 1,\n",
              " 'u': 2}"
            ]
          },
          "metadata": {},
          "execution_count": 20
        }
      ]
    },
    {
      "cell_type": "code",
      "source": [
        ""
      ],
      "metadata": {
        "id": "hNtHMu9qhINp"
      },
      "execution_count": null,
      "outputs": []
    }
  ]
}