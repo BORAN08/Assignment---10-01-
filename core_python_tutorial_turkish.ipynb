{
  "nbformat": 4,
  "nbformat_minor": 0,
  "metadata": {
    "colab": {
      "name": "Python Türkçe Başlangıç",
      "provenance": [],
      "collapsed_sections": [
        "PTAHQLZT676R",
        "NNuBO6bO676k",
        "nwS9wFGQ677T",
        "DuAK2VqV677V",
        "mGpcOZPC677p",
        "e7kQtwzD677t",
        "UtYuRtNI6772",
        "LaNwQCYW678K",
        "ct0A73Vz678p",
        "SzvCeQ3P6786",
        "zRSvC60r679G",
        "Bm13r-al679M",
        "pBw0NtmC679Q",
        "qN3x1ulv679o",
        "UheI9Iau67-K",
        "blV4fLzx67-N",
        "drTuqVch67-o",
        "BW_9crWx67-9",
        "Ykk1Ld9S67_C"
      ],
      "include_colab_link": true
    },
    "kernelspec": {
      "display_name": "Python 3",
      "language": "python",
      "name": "python3"
    },
    "language_info": {
      "codemirror_mode": {
        "name": "ipython",
        "version": 3
      },
      "file_extension": ".py",
      "mimetype": "text/x-python",
      "name": "python",
      "nbconvert_exporter": "python",
      "pygments_lexer": "ipython3",
      "version": "3.8.3"
    }
  },
  "cells": [
    {
      "cell_type": "markdown",
      "metadata": {
        "id": "view-in-github",
        "colab_type": "text"
      },
      "source": [
        "<a href=\"https://colab.research.google.com/github/BORAN08/Assignment_cohort10/blob/main/core_python_tutorial_turkish.ipynb\" target=\"_parent\"><img src=\"https://colab.research.google.com/assets/colab-badge.svg\" alt=\"Open In Colab\"/></a>"
      ]
    },
    {
      "cell_type": "markdown",
      "metadata": {
        "id": "FSPDQrlU674-"
      },
      "source": [
        "# Python Türkçe Başlangıç"
      ]
    },
    {
      "cell_type": "markdown",
      "metadata": {
        "id": "dTbEHfKGbJu5"
      },
      "source": [
        "### [GOOGLE COLAB ÜZERİNDE ÇALIŞTIR!](http://colab.research.google.com/github/fuatbeser/python-notlarim/blob/master/core_python_tutorial_turkish.ipynb)\n",
        "\n",
        "- [Github](https://github.com/fuatbeser/python-notlarim) (Daha fazla kişiye ulaşması için yıldız verebilirsiniz.)\n",
        "- [Jupyter Notebook Viewer](http://nbviewer.jupyter.org/github/fuatbeser/python-notlarim/blob/master/core_python_tutorial_turkish.ipynb)"
      ]
    },
    {
      "cell_type": "markdown",
      "metadata": {
        "id": "r9kM6ZMo675H"
      },
      "source": [
        "## Giriş"
      ]
    },
    {
      "cell_type": "markdown",
      "metadata": {
        "id": "8YRuT1aA675R"
      },
      "source": [
        "Hadi öğrenmeye başlayalım :)\n",
        "\n",
        "Genel amaçlı bir programlama dili olan **Python**, bazı popüler kütüphanelerin (*Numpy, Scipy, Pandas, Matplotlib* vb.) de yardımıyla **Makine Öğrenmesi, Derin Öğrenme, Optimizasyon, İstatistik ve Veri Bilimi** için harika bir ortam sunmaktadır.\n",
        "\n",
        "[Fuat Beşer](https://www.linkedin.com/in/fuatbeser/) tarafından, en altta yer alan referanslardan faydalanılarak hazırlanmıştır. Gördüğünüz hataları **Pull Request** açarak belirtebilirsiniz."
      ]
    },
    {
      "cell_type": "markdown",
      "metadata": {
        "id": "KRWMIJYz675W"
      },
      "source": [
        "## Python Temelleri"
      ]
    },
    {
      "cell_type": "markdown",
      "metadata": {
        "id": "3Vcvj5uw675Y"
      },
      "source": [
        "Yazımının çok kolay olması nedeniyle dünya üzerinde çok fazla kişi tarafından kullanılan Python, yüksek seviyeli bir programlama dilidir. \"Python\" ismi [Monty Python's Flying Circus](https://www.imdb.com/title/tt0063929/) isimli bir TV dizisinden gelmektedir. Python'un kısa geçmişini [şu yazıdan](https://www.python-course.eu/python3_history_and_philosophy.php) okuyabilirsiniz.  \n",
        "\n",
        "![Monty Python](https://github.com/fuatbeser/python-notlarim/blob/master/assets/monty_python.jpg?raw=1)\n",
        "\n",
        "Bir sayı dizisini küçükten büyüğe (ya da tam tersi) sıralamak için kullanılabilecek `sirala` fonksiyonunun Python programlama dilinde aşağıdaki gibi tanımlayabiliriz."
      ]
    },
    {
      "cell_type": "code",
      "metadata": {
        "id": "qqf0XUDL675b",
        "outputId": "d3a3434a-728c-4275-d640-e2f88dfa5c30"
      },
      "source": [
        "def sirala(dizi):\n",
        "    if len(dizi) <= 1:\n",
        "        return dizi\n",
        "    referans = dizi[len(dizi) // 2]\n",
        "    sol = [x for x in dizi if x < referans]\n",
        "    orta = [x for x in dizi if x == referans]\n",
        "    sag = [x for x in dizi if x > referans]\n",
        "    return sirala(sol) + orta + sirala(sag)\n",
        "\n",
        "print (sirala([3,6,8,10,1,2,1]))"
      ],
      "execution_count": null,
      "outputs": [
        {
          "name": "stdout",
          "output_type": "stream",
          "text": [
            "[1, 1, 2, 3, 6, 8, 10]\n"
          ]
        }
      ]
    },
    {
      "cell_type": "markdown",
      "metadata": {
        "id": "ExKZ_5fK675m"
      },
      "source": [
        "### Python Versiyon Kontrolü"
      ]
    },
    {
      "cell_type": "markdown",
      "metadata": {
        "id": "FFIeK5PM675o"
      },
      "source": [
        "Python 2 ve 3 olmak üzere iki temel sürüm mevcuttur. Kullandığınız Python sürümünü öğrenmek için komut satırından `python --version` komutunu çalıştırabilirsiniz."
      ]
    },
    {
      "cell_type": "code",
      "metadata": {
        "id": "uEf1euk-bJu_",
        "outputId": "bbe7aeb7-2337-4571-af57-54fd30b4171e"
      },
      "source": [
        "!python --version"
      ],
      "execution_count": null,
      "outputs": [
        {
          "name": "stdout",
          "output_type": "stream",
          "text": [
            "Python 3.8.3\n"
          ]
        }
      ]
    },
    {
      "cell_type": "markdown",
      "metadata": {
        "id": "ZNKwhFBDbJu_"
      },
      "source": [
        "### Yorum Satırları\n",
        "\n",
        "Yorum satırları derleme aşamasında (kodların çalıştırılıp çıkış üretilmesi) dikkate alınmaz.\n",
        "\n",
        "Aşağıdaki hücreyi çalıştırdığınızda satırın başında `#` işareti olduğu için **çıktı olarak bir şey göremezsiniz**. "
      ]
    },
    {
      "cell_type": "code",
      "metadata": {
        "id": "EVHJSfxubJu_"
      },
      "source": [
        "# TEK YORUM SATIRI"
      ],
      "execution_count": null,
      "outputs": []
    },
    {
      "cell_type": "markdown",
      "metadata": {
        "id": "e7jyYdhEbJvA"
      },
      "source": [
        "### Ekrana Yazdırma (print)\n",
        "\n",
        "`print()` fonksiyonu ile ekrana yazdırma işlemlerini yaparız. Ayrıca `type()` ile _verinin tipini_, `len()` ile _verinin uzunluğunu_ görebiliriz."
      ]
    },
    {
      "cell_type": "code",
      "metadata": {
        "id": "ABvPHdjabJvA",
        "outputId": "3aab5f67-ac1f-44c8-e30e-bbedf47ce444"
      },
      "source": [
        "# TEK YORUM SATIRI\n",
        "\n",
        "\"\"\"\n",
        "Her \n",
        "Satıra\n",
        "# İşareti\n",
        "Yazmak \n",
        "Yerine\n",
        "Üç \n",
        "Tırnak\n",
        "İşareti\n",
        "İle\n",
        "Birden\n",
        "Fazla\n",
        "Yorum \n",
        "Satırı\n",
        "Oluşturabilirsiniz\n",
        "\"\"\"\n",
        "\n",
        "merhaba = \"Merhaba\"\n",
        "\n",
        "print(\"Merhaba\") # Ekrana yazdırma\n",
        "print(merhaba) # Ekrana değişken yazdırma\n",
        "print(\"{}\".format(merhaba)) # .format() ile ekrana değişken yazdırma\n",
        "print(\"{} {}\".format(merhaba, merhaba)) # .format() ile ekrana iki değişken yazdırma\n",
        "\n",
        "print(type(merhaba)) # Veri tipi yazdırma\n",
        "print(len(merhaba)) # Uzunluk yazdırma\n",
        "\n",
        "print(merhaba[0]) # ilk harfi yazdırma\n",
        "print(merhaba[1]) # ikinci harfi yazdırma\n",
        "print(merhaba[4]) # beşinci harfi yazdırma"
      ],
      "execution_count": null,
      "outputs": [
        {
          "name": "stdout",
          "output_type": "stream",
          "text": [
            "Merhaba\n",
            "Merhaba\n",
            "Merhaba\n",
            "Merhaba Merhaba\n",
            "<class 'str'>\n",
            "7\n",
            "M\n",
            "e\n",
            "a\n"
          ]
        }
      ]
    },
    {
      "cell_type": "markdown",
      "metadata": {
        "id": "gkJF-CmcbJvA"
      },
      "source": [
        "### İpucu Fonksiyonları\n",
        "\n",
        "Bütün fonksiyonları ve fonksiyon parametrelerini ezberlemek zorunda değilsiniz. `help(fonksiyon_adi)` kullanmanızı tavsiye ederim."
      ]
    },
    {
      "cell_type": "code",
      "metadata": {
        "id": "3-P6is62bJvB",
        "outputId": "b342994c-7dcf-407e-cb3e-6d661eae90d4"
      },
      "source": [
        "help(len)"
      ],
      "execution_count": null,
      "outputs": [
        {
          "name": "stdout",
          "output_type": "stream",
          "text": [
            "Help on built-in function len in module builtins:\n",
            "\n",
            "len(obj, /)\n",
            "    Return the number of items in a container.\n",
            "\n"
          ]
        }
      ]
    },
    {
      "cell_type": "markdown",
      "metadata": {
        "id": "9Kn8t4LM675p"
      },
      "source": [
        "### Temel Veri Tipleri"
      ]
    },
    {
      "cell_type": "markdown",
      "metadata": {
        "id": "8Fr6B1Rq675r"
      },
      "source": [
        "#### Sayılar"
      ]
    },
    {
      "cell_type": "markdown",
      "metadata": {
        "id": "CQ2yrZ3D675x"
      },
      "source": [
        "Tam ve ondalıklı sayılar diğer programlama dillerinde olduğu gibi tanımlanmaktadır. "
      ]
    },
    {
      "cell_type": "code",
      "metadata": {
        "colab": {
          "base_uri": "https://localhost:8080/",
          "height": 68
        },
        "id": "KJbY-fBi675y",
        "outputId": "64d57351-bda6-4c60-bd66-5fc330f5f906"
      },
      "source": [
        "x = 3\n",
        "\n",
        "print(x) # x'i ekrana yazdırma\n",
        "print(type(x)) # x'in veri tipini ekrana yazdırma\n",
        "print (x, type(x)) # her ikisini birden ekrana yazdırma"
      ],
      "execution_count": null,
      "outputs": [
        {
          "name": "stdout",
          "output_type": "stream",
          "text": [
            "3\n",
            "<class 'int'>\n",
            "3 <class 'int'>\n"
          ]
        }
      ]
    },
    {
      "cell_type": "code",
      "metadata": {
        "colab": {
          "base_uri": "https://localhost:8080/",
          "height": 85
        },
        "id": "FpnT7z6S6759",
        "outputId": "a5fec759-9ecc-4d90-e000-5a10b7b8818d"
      },
      "source": [
        "print (x + 1)   # toplama\n",
        "print (x - 1)   # çıkarma\n",
        "print (x * 2)   # çarpma\n",
        "print (x ** 2)  # üs alma"
      ],
      "execution_count": null,
      "outputs": [
        {
          "name": "stdout",
          "output_type": "stream",
          "text": [
            "4\n",
            "2\n",
            "6\n",
            "9\n"
          ]
        }
      ]
    },
    {
      "cell_type": "code",
      "metadata": {
        "colab": {
          "base_uri": "https://localhost:8080/",
          "height": 51
        },
        "id": "GaHrJDRH676E",
        "outputId": "72e42696-8ac7-477e-f351-04be77adae81"
      },
      "source": [
        "x += 1 # x = x + 1 yerine\n",
        "print (x) # x'in eski değeri 3, yeni değeri 4 (x + 1)\n",
        "\n",
        "x *= 2 # x = x * 2 yerine\n",
        "print (x) # x'in eski değeri 4, yeni değeri 8 (x * 2) "
      ],
      "execution_count": null,
      "outputs": [
        {
          "name": "stdout",
          "output_type": "stream",
          "text": [
            "4\n",
            "8\n"
          ]
        }
      ]
    },
    {
      "cell_type": "code",
      "metadata": {
        "colab": {
          "base_uri": "https://localhost:8080/",
          "height": 51
        },
        "id": "NGQOOi0e676K",
        "outputId": "e3cedede-d0b2-4b1f-a54f-cc9f4b76143f"
      },
      "source": [
        "y = 2.5\n",
        "print (type(y)) # \"<class 'float'>\"\n",
        "print (y, y + 1, y * 2, y ** 2) # \"2.5 3.5 5.0 6.25\""
      ],
      "execution_count": null,
      "outputs": [
        {
          "name": "stdout",
          "output_type": "stream",
          "text": [
            "<class 'float'>\n",
            "2.5 3.5 5.0 6.25\n"
          ]
        }
      ]
    },
    {
      "cell_type": "markdown",
      "metadata": {
        "id": "BfheGx_e676Q"
      },
      "source": [
        "**İPUCU**: Diğer programlama dillerinin aksine Python'da tekli artış (x++) ya da azalış (x--) operatörü yoktur. "
      ]
    },
    {
      "cell_type": "markdown",
      "metadata": {
        "id": "PTAHQLZT676R"
      },
      "source": [
        "#### Mantıksal Veriler (Booleans)"
      ]
    },
    {
      "cell_type": "markdown",
      "metadata": {
        "id": "dTyMhUTK676T"
      },
      "source": [
        "Python'da Boole cebri için `&&` ve `||` gibi semboller yerine `and`, `or` ve `not` gibi İngilizce kelimeler kullanılmaktadır."
      ]
    },
    {
      "cell_type": "code",
      "metadata": {
        "id": "VGJk8-Gi676U",
        "outputId": "0d4ff88c-11e7-41bd-fe88-5efccbb8033c"
      },
      "source": [
        "t, f = True, False\n",
        "print (type(t)) # Ekrana \"<type 'bool'>\" yazdırır"
      ],
      "execution_count": null,
      "outputs": [
        {
          "name": "stdout",
          "output_type": "stream",
          "text": [
            "<class 'bool'>\n"
          ]
        }
      ]
    },
    {
      "cell_type": "markdown",
      "metadata": {
        "id": "43moWQ8M676e"
      },
      "source": [
        "Temel mantık işlemleri:"
      ]
    },
    {
      "cell_type": "code",
      "metadata": {
        "id": "xExtk_2a676f",
        "outputId": "16a11aea-d7aa-4e07-d4c1-a049ec482629"
      },
      "source": [
        "print (t and f) # Mantıksal AND;\n",
        "print (t or f)  # Mantıksal OR;\n",
        "print (not t)   # Mantıksal NOT;\n",
        "print (t != f)  # Mantıksal XOR;"
      ],
      "execution_count": null,
      "outputs": [
        {
          "name": "stdout",
          "output_type": "stream",
          "text": [
            "False\n",
            "True\n",
            "False\n",
            "True\n"
          ]
        }
      ]
    },
    {
      "cell_type": "markdown",
      "metadata": {
        "id": "NNuBO6bO676k"
      },
      "source": [
        "#### Karakter Dizileri (Strings)"
      ]
    },
    {
      "cell_type": "code",
      "metadata": {
        "colab": {
          "base_uri": "https://localhost:8080/",
          "height": 68
        },
        "id": "_55-i1qT676l",
        "outputId": "114be59e-90a6-49d4-d957-5efc598462fe"
      },
      "source": [
        "merhaba = 'merhaba' # tek tırnak da kullanılabilir\n",
        "dunya = \"dünya\" # çift tırnak da\n",
        "\n",
        "print(merhaba) # \"merhaba\" yazdırır\n",
        "print(len(merhaba)) # \"merhaba\" da kaç karakter olduğunu yazdırır\n",
        "print (merhaba, len(merhaba)) # ikisi birlikte\n",
        "# print (merhaba + len(merhaba)) # HATA VERECEK!\n",
        "print (merhaba + str(len(merhaba))) # sayıyı str() fonksiyonu ile string'e çevirelim"
      ],
      "execution_count": null,
      "outputs": [
        {
          "name": "stdout",
          "output_type": "stream",
          "text": [
            "merhaba\n",
            "7\n",
            "merhaba 7\n",
            "merhaba7\n"
          ]
        }
      ]
    },
    {
      "cell_type": "code",
      "metadata": {
        "id": "zNR4Eoeq6761",
        "outputId": "a90fc6de-e49e-470a-fdd6-2dccafaaefab"
      },
      "source": [
        "m7 = '%s %d' % (merhaba, len(merhaba))  # önce veri tipi sonra değişkenler tanımlanabilir\n",
        "print (m7)  # ekrana \"merhaba 7\" yazdırır"
      ],
      "execution_count": null,
      "outputs": [
        {
          "name": "stdout",
          "output_type": "stream",
          "text": [
            "merhaba 7\n"
          ]
        }
      ]
    },
    {
      "cell_type": "code",
      "metadata": {
        "id": "LxKA1i9B676p",
        "outputId": "21e92dbb-a897-45d7-c1de-f7c1979b5602"
      },
      "source": [
        "myz = \"merhaba\" + ' ' + \"yapay\" + ' ' + 'zeka'  # string birleştirme\n",
        "print (myz)  # ekrana \"merhaba yapay zeka\" yazdırır"
      ],
      "execution_count": null,
      "outputs": [
        {
          "name": "stdout",
          "output_type": "stream",
          "text": [
            "merhaba yapay zeka\n"
          ]
        }
      ]
    },
    {
      "cell_type": "code",
      "metadata": {
        "colab": {
          "base_uri": "https://localhost:8080/",
          "height": 119
        },
        "id": "uolhdhxK677J",
        "outputId": "faaa5a19-1913-428f-a30b-d5d7c4da2798"
      },
      "source": [
        "kelime = \"yapay zeka\"\n",
        "print (kelime.capitalize())  # İlk harf büyük \"Yapay zeka\"\n",
        "print (kelime.upper())       # Hepsi büyük \"YAPAY ZEKA\"\n",
        "print (kelime.rjust(15))     # Sağa yasla\n",
        "print (kelime.center(15))    # Merkeze ortala\n",
        "print (kelime.replace('zeka', 'zekalar'))  # \"zeka\"ları \"zekalar\" ile değiştirelim\n",
        "print ('        yapay zeka önemlidir :) '.strip())  # boşlukları silmek için strip() kullanılır"
      ],
      "execution_count": null,
      "outputs": [
        {
          "name": "stdout",
          "output_type": "stream",
          "text": [
            "Yapay zeka\n",
            "YAPAY ZEKA\n",
            "     yapay zeka\n",
            "   yapay zeka  \n",
            "yapay zekalar\n",
            "yapay zeka önemlidir :)\n"
          ]
        }
      ]
    },
    {
      "cell_type": "markdown",
      "metadata": {
        "id": "LlV-c6Eg677S"
      },
      "source": [
        "Listelerle ilgili daha fazla bilgi için [dokümanına](https://docs.python.org/3/library/string.html) bakabilirsiniz."
      ]
    },
    {
      "cell_type": "markdown",
      "metadata": {
        "id": "DuAK2VqV677V"
      },
      "source": [
        "#### Listeler"
      ]
    },
    {
      "cell_type": "markdown",
      "metadata": {
        "id": "LEX0Q940677W"
      },
      "source": [
        "Python'da yer alan listeler yeniden boyutlandırılabilir ve farklı tipte veri tiplerini saklayabilir.\n",
        "\n",
        "**İPUCU**: Listelerin ilk elemanlarının indisi 1 değil 0'dır. Yani `liste[1]` listenin ikinci elemanını belirtmektedir. Listenin en son elemanının indisi ise **-1**'dir "
      ]
    },
    {
      "cell_type": "code",
      "metadata": {
        "id": "LwjhSVUv677Z",
        "outputId": "c4c04727-2787-44bd-bd94-15e3e53600ca"
      },
      "source": [
        "listemiz = [3, 1, 2, 3] # Liste oluşturma\n",
        "\n",
        "print (listemiz) # Listenin tamamını ekrana yazdıralım\n",
        "\n",
        "print (listemiz[0]) #Listenin ilk elemanını yazdıralım\n",
        "print (listemiz[1]) #Listenin ikinci elemanını yazdıralım\n",
        "\n",
        "print (listemiz[-1]) #Listenin son elemanının yazdıralım\n",
        "print (listemiz[-3]) #Listenin sondan iki önceki elemanının yazdıralım"
      ],
      "execution_count": null,
      "outputs": [
        {
          "name": "stdout",
          "output_type": "stream",
          "text": [
            "[3, 1, 2, 3]\n",
            "3\n",
            "1\n",
            "3\n",
            "1\n"
          ]
        }
      ]
    },
    {
      "cell_type": "code",
      "metadata": {
        "id": "GZ0e_bgn677d",
        "outputId": "38e061c4-68bc-4c2b-b498-177998243f15"
      },
      "source": [
        "listemiz[2] = 'yapay' # Listelerde farklı veri tipleri tutulabilir\n",
        "\n",
        "print (listemiz)"
      ],
      "execution_count": null,
      "outputs": [
        {
          "name": "stdout",
          "output_type": "stream",
          "text": [
            "[3, 1, 'yapay', 3]\n"
          ]
        }
      ]
    },
    {
      "cell_type": "markdown",
      "metadata": {
        "id": "1mljW54nbJvF"
      },
      "source": [
        "`.append()` ile listenin sonuna ekleme yapabiliriz."
      ]
    },
    {
      "cell_type": "code",
      "metadata": {
        "id": "PqQ1-vCT677h",
        "outputId": "db8565b4-9dd2-4d8d-90b4-ec64e132bdab"
      },
      "source": [
        "listemiz.append('zeka') # Listenin en sonuna `append` ile veri eklenebilir\n",
        "\n",
        "print (listemiz)  "
      ],
      "execution_count": null,
      "outputs": [
        {
          "name": "stdout",
          "output_type": "stream",
          "text": [
            "[3, 1, 'yapay', 3, 'zeka']\n"
          ]
        }
      ]
    },
    {
      "cell_type": "markdown",
      "metadata": {
        "id": "9TjD90ombJvG"
      },
      "source": [
        "`.pop()` ile listenin son elemanını atabiliriz."
      ]
    },
    {
      "cell_type": "code",
      "metadata": {
        "id": "oVOWz4mo677k",
        "outputId": "8886fd8c-4f87-4733-f07f-76f633a4de45"
      },
      "source": [
        "son_eleman = listemiz.pop() # Listenin son elemanını at ve atılan elamenı ekrana yazdır\n",
        "\n",
        "print(son_eleman)\n",
        "print(listemiz)"
      ],
      "execution_count": null,
      "outputs": [
        {
          "name": "stdout",
          "output_type": "stream",
          "text": [
            "zeka\n",
            "[3, 1, 'yapay', 3]\n"
          ]
        }
      ]
    },
    {
      "cell_type": "markdown",
      "metadata": {
        "id": "00SXrcOpbJvG"
      },
      "source": [
        "`.index()` ile kontrol edilen elemanın listedeki indisini görebiliriz."
      ]
    },
    {
      "cell_type": "code",
      "metadata": {
        "id": "XQwW6nUHbJvG",
        "outputId": "67f53864-0ea0-4f8f-ae40-051e1e17c619"
      },
      "source": [
        "listemiz.index('yapay')"
      ],
      "execution_count": null,
      "outputs": [
        {
          "data": {
            "text/plain": [
              "2"
            ]
          },
          "execution_count": 20,
          "metadata": {},
          "output_type": "execute_result"
        }
      ]
    },
    {
      "cell_type": "markdown",
      "metadata": {
        "id": "CeXPVCoIbJvG"
      },
      "source": [
        "`.count()` ile kontrol edilen elemandan listede kaç tane olduğunu görebiliriz."
      ]
    },
    {
      "cell_type": "code",
      "metadata": {
        "id": "uATBlHq4bJvG",
        "outputId": "eef29b7b-2a5b-4e77-f63e-c65fe23d6268"
      },
      "source": [
        "listemiz.count(3)"
      ],
      "execution_count": null,
      "outputs": [
        {
          "data": {
            "text/plain": [
              "2"
            ]
          },
          "execution_count": 21,
          "metadata": {},
          "output_type": "execute_result"
        }
      ]
    },
    {
      "cell_type": "markdown",
      "metadata": {
        "id": "jjxiiF7ObJvG"
      },
      "source": [
        "`.remove()` ile istediğimiz bir elemanı listeden silebiliriz."
      ]
    },
    {
      "cell_type": "code",
      "metadata": {
        "id": "MLTxQKiqbJvH",
        "outputId": "66585669-1800-4e0c-e478-355cf0093c8d"
      },
      "source": [
        "listemiz.remove('yapay')\n",
        "print(listemiz)"
      ],
      "execution_count": null,
      "outputs": [
        {
          "name": "stdout",
          "output_type": "stream",
          "text": [
            "[3, 1, 3]\n"
          ]
        }
      ]
    },
    {
      "cell_type": "markdown",
      "metadata": {
        "id": "6M_bpxHDbJvH"
      },
      "source": [
        "`.sort()` ile listeyi sıralayabiliriz."
      ]
    },
    {
      "cell_type": "code",
      "metadata": {
        "id": "YMWl3NmybJvH",
        "outputId": "c0c04eff-bed6-4e7a-cd50-c7393cfa0b65"
      },
      "source": [
        "listemiz.sort()\n",
        "listemiz"
      ],
      "execution_count": null,
      "outputs": [
        {
          "data": {
            "text/plain": [
              "[1, 3, 3]"
            ]
          },
          "execution_count": 23,
          "metadata": {},
          "output_type": "execute_result"
        }
      ]
    },
    {
      "cell_type": "markdown",
      "metadata": {
        "id": "bvxJoGT2bJvH"
      },
      "source": [
        "`.reverse()` ile listeyi tersine çevirebiliriz."
      ]
    },
    {
      "cell_type": "code",
      "metadata": {
        "id": "dJDpH71xbJvH",
        "outputId": "166001a5-d931-4dc1-eeb2-c631bd84e4dc"
      },
      "source": [
        "listemiz.reverse()\n",
        "listemiz"
      ],
      "execution_count": null,
      "outputs": [
        {
          "data": {
            "text/plain": [
              "[3, 3, 1]"
            ]
          },
          "execution_count": 24,
          "metadata": {},
          "output_type": "execute_result"
        }
      ]
    },
    {
      "cell_type": "markdown",
      "metadata": {
        "id": "UozkhspDbJvH"
      },
      "source": [
        "`.extend()` ile listenin sonuna başka bir bir listeyi ekleyebiliriz."
      ]
    },
    {
      "cell_type": "code",
      "metadata": {
        "id": "DhzKpMJLbJvH",
        "outputId": "5b4bf0d7-6edc-43a5-c552-3184bce3e324"
      },
      "source": [
        "ek_liste = [1, 11, 111, 1111]\n",
        "listemiz.extend(ek_liste)\n",
        "listemiz"
      ],
      "execution_count": null,
      "outputs": [
        {
          "data": {
            "text/plain": [
              "[3, 3, 1, 1, 11, 111, 1111]"
            ]
          },
          "execution_count": 25,
          "metadata": {},
          "output_type": "execute_result"
        }
      ]
    },
    {
      "cell_type": "markdown",
      "metadata": {
        "id": "sXmd3k7hbJvH"
      },
      "source": [
        "`.copy()` ile listemizi başka bir listeye kopyalayabiliriz."
      ]
    },
    {
      "cell_type": "code",
      "metadata": {
        "id": "FRkAGGtkbJvI",
        "outputId": "ec6036c0-7793-4d86-d95f-4dce3a845e89"
      },
      "source": [
        "yeni_liste = listemiz.copy()\n",
        "yeni_liste"
      ],
      "execution_count": null,
      "outputs": [
        {
          "data": {
            "text/plain": [
              "[3, 3, 1, 1, 11, 111, 1111]"
            ]
          },
          "execution_count": 26,
          "metadata": {},
          "output_type": "execute_result"
        }
      ]
    },
    {
      "cell_type": "markdown",
      "metadata": {
        "id": "CWobLjAObJvI"
      },
      "source": [
        "`.insert()` ile listemizin istediğimiz bir indisine eleman ekleyebiliriz."
      ]
    },
    {
      "cell_type": "code",
      "metadata": {
        "id": "xiHTYRE2bJvI",
        "outputId": "5f113e6b-0630-4855-dd6e-acddd1320bf7"
      },
      "source": [
        "yeni_liste.insert(5,555) # 5. indise 555 ekle\n",
        "yeni_liste"
      ],
      "execution_count": null,
      "outputs": [
        {
          "data": {
            "text/plain": [
              "[3, 3, 1, 1, 11, 555, 111, 1111]"
            ]
          },
          "execution_count": 27,
          "metadata": {},
          "output_type": "execute_result"
        }
      ]
    },
    {
      "cell_type": "markdown",
      "metadata": {
        "id": "dFaxvNb1bJvI"
      },
      "source": [
        "`.clear()` ile listemizin içini boşaltabiliriz."
      ]
    },
    {
      "cell_type": "code",
      "metadata": {
        "id": "AIdYloblbJvI",
        "outputId": "5ecff0ca-2aa0-4530-f759-d9b57a239562"
      },
      "source": [
        "yeni_liste.clear()\n",
        "yeni_liste"
      ],
      "execution_count": null,
      "outputs": [
        {
          "data": {
            "text/plain": [
              "[]"
            ]
          },
          "execution_count": 28,
          "metadata": {},
          "output_type": "execute_result"
        }
      ]
    },
    {
      "cell_type": "markdown",
      "metadata": {
        "id": "mGpcOZPC677p"
      },
      "source": [
        "#### Dilimleme (Slicing)"
      ]
    },
    {
      "cell_type": "markdown",
      "metadata": {
        "id": "S9tH5dNh677p"
      },
      "source": [
        "Liste elemamanlarına dilimleme yöntemi ile de ulaşabiliriz."
      ]
    },
    {
      "cell_type": "code",
      "metadata": {
        "id": "Uzj9L69y677q",
        "outputId": "d8de70bc-fc9d-4d6e-9188-d97ca5147166"
      },
      "source": [
        "sayilar = list(range(5)) # Python'da ön-tanımlı 'range' fonksiyonu ile 0'dan 5'e kadar (5 hariç) tam sayı listesi oluşturalım\n",
        "print (sayilar)          # Listenin tamamını yazdıralım = \"[0, 1, 2, 3, 4]\" \n",
        "print (sayilar[2:4])     # Listenin 2. indisinden 4. indisine kadar olan dilimini yazdıralım = \"[2, 3]\"\n",
        "print (sayilar[2:])      # Listenin 2. indisinden en sona kadar olan dilimini yazdıralım = \"[2, 3, 4]\"\n",
        "print (sayilar[:2])      # Listenin en baştan 2. indise kadar olan dilimini yazdıralım =  \"[0, 1]\"\n",
        "print (sayilar[:])       # Listenin tamanını dilim olarak yazdıralım = [\"0, 1, 2, 3, 4]\"\n",
        "\n",
        "\n",
        "# Liste indisleri negatif olabilir. -1 listenin son elemanını verdiğinden, \n",
        "# en baştan listenin son elemanına kadar olan dilimi yazdıralım: \n",
        "print (sayilar[:-1])     \n",
        "\n",
        "sayilar[2:4] = [8, 9]    # Dilime yeni bir alt liste atayalım\n",
        "print (sayilar)          # Listenin yeni hali = \"[0, 1, 8, 9, 4]\""
      ],
      "execution_count": null,
      "outputs": [
        {
          "name": "stdout",
          "output_type": "stream",
          "text": [
            "[0, 1, 2, 3, 4]\n",
            "[2, 3]\n",
            "[2, 3, 4]\n",
            "[0, 1]\n",
            "[0, 1, 2, 3, 4]\n",
            "[0, 1, 2, 3]\n",
            "[0, 1, 8, 9, 4]\n"
          ]
        }
      ]
    },
    {
      "cell_type": "markdown",
      "metadata": {
        "id": "e7kQtwzD677t"
      },
      "source": [
        "#### Döngüler"
      ]
    },
    {
      "cell_type": "markdown",
      "metadata": {
        "id": "rh9ae6_6677u"
      },
      "source": [
        "Liste elemanlarına döngü yardımıyla şu şekilde ulaşılabilir:"
      ]
    },
    {
      "cell_type": "code",
      "metadata": {
        "id": "AK_BEniw677u",
        "outputId": "9841dbb2-fd88-4934-bdb7-5170ef109a2b"
      },
      "source": [
        "iller = ['istanbul', 'ankara', 'izmir', 'malatya']\n",
        "\n",
        "for il in iller:\n",
        "    print (il)"
      ],
      "execution_count": null,
      "outputs": [
        {
          "name": "stdout",
          "output_type": "stream",
          "text": [
            "istanbul\n",
            "ankara\n",
            "izmir\n",
            "malatya\n"
          ]
        }
      ]
    },
    {
      "cell_type": "markdown",
      "metadata": {
        "id": "gvLSrDBH677y"
      },
      "source": [
        "Döngü içerisinde her bir liste elemanının indeks değerine ulaşmak için `enumerate` fonksiyonunu kullanabilirsiniz."
      ]
    },
    {
      "cell_type": "code",
      "metadata": {
        "id": "8RBEpUQ9677y",
        "outputId": "7ef9b439-8a6d-4548-9436-570cbf6e97d7"
      },
      "source": [
        "iller = ['İstanbul', 'Ankara', 'İzmir', 'Malatya']\n",
        "\n",
        "for sira, iller in enumerate(iller):\n",
        "    print ('%d: %s' % (sira + 1, iller))"
      ],
      "execution_count": null,
      "outputs": [
        {
          "name": "stdout",
          "output_type": "stream",
          "text": [
            "1: İstanbul\n",
            "2: Ankara\n",
            "3: İzmir\n",
            "4: Malatya\n"
          ]
        }
      ]
    },
    {
      "cell_type": "markdown",
      "metadata": {
        "id": "IURcBvh-bJvJ"
      },
      "source": [
        "`range()` fonksiyonu ile belirli bir aralık tanımlayabiliriz."
      ]
    },
    {
      "cell_type": "code",
      "metadata": {
        "id": "nDq9kslWbJvJ",
        "outputId": "5928742e-8b82-45dc-9f3d-ceff1c991056"
      },
      "source": [
        "for sayi in range(1,11):\n",
        "    print (sayi)"
      ],
      "execution_count": null,
      "outputs": [
        {
          "name": "stdout",
          "output_type": "stream",
          "text": [
            "1\n",
            "2\n",
            "3\n",
            "4\n",
            "5\n",
            "6\n",
            "7\n",
            "8\n",
            "9\n",
            "10\n"
          ]
        }
      ]
    },
    {
      "cell_type": "code",
      "metadata": {
        "id": "gFBGAckvbJvK",
        "outputId": "331a6b6d-2bf2-4597-f463-716dc91287b5"
      },
      "source": [
        "for harf in 'Yapay Zeka':\n",
        "    print(harf)"
      ],
      "execution_count": null,
      "outputs": [
        {
          "name": "stdout",
          "output_type": "stream",
          "text": [
            "Y\n",
            "a\n",
            "p\n",
            "a\n",
            "y\n",
            " \n",
            "Z\n",
            "e\n",
            "k\n",
            "a\n"
          ]
        }
      ]
    },
    {
      "cell_type": "code",
      "metadata": {
        "id": "5jWTI2xzbJvK",
        "outputId": "7df07128-295d-4826-a0af-a7f3991f07dc"
      },
      "source": [
        "for kelime in \"Yapay Zeka\".split():\n",
        "    print(kelime)"
      ],
      "execution_count": null,
      "outputs": [
        {
          "name": "stdout",
          "output_type": "stream",
          "text": [
            "Yapay\n",
            "Zeka\n"
          ]
        }
      ]
    },
    {
      "cell_type": "markdown",
      "metadata": {
        "id": "UtYuRtNI6772"
      },
      "source": [
        "#### Listeler Arası Dönüşüm\n",
        "\n",
        "Liste elemanlarının tamamı üzerinde işlemler yapabiliriz."
      ]
    },
    {
      "cell_type": "markdown",
      "metadata": {
        "id": "Y5NBaqwobJvK"
      },
      "source": [
        "#### Listenin Karesini Alma"
      ]
    },
    {
      "cell_type": "code",
      "metadata": {
        "id": "1q8uHGAM6773",
        "outputId": "01371474-7005-4d43-a5ba-7b899ff1e32b"
      },
      "source": [
        "rakamlar = [0, 1, 2, 3, 4, 5, 6, 7]\n",
        "kareler = []\n",
        "\n",
        "for rakam in rakamlar:\n",
        "    kareler.append(rakam ** 2) # append ile sona ekleme yapıyoruz.\n",
        "\n",
        "print (kareler)"
      ],
      "execution_count": null,
      "outputs": [
        {
          "name": "stdout",
          "output_type": "stream",
          "text": [
            "[0, 1, 4, 9, 16, 25, 36, 49]\n"
          ]
        }
      ]
    },
    {
      "cell_type": "markdown",
      "metadata": {
        "id": "x-dS_UuH6779"
      },
      "source": [
        "Bu işlemi şu şekilde de kolaylıkla yapabiliriz."
      ]
    },
    {
      "cell_type": "code",
      "metadata": {
        "id": "nPBWO8YS678D",
        "outputId": "973cb8b7-1a9d-42ff-ce8b-92dbe4cd9cbb"
      },
      "source": [
        "rakamlar = [0, 1, 2, 3, 4, 5, 6, 7]\n",
        "kareler = [rakam ** 2 \n",
        "           for rakam in rakamlar]\n",
        "\n",
        "print (kareler)"
      ],
      "execution_count": null,
      "outputs": [
        {
          "name": "stdout",
          "output_type": "stream",
          "text": [
            "[0, 1, 4, 9, 16, 25, 36, 49]\n"
          ]
        }
      ]
    },
    {
      "cell_type": "markdown",
      "metadata": {
        "id": "wzcqae6s678H"
      },
      "source": [
        "Listeler arası dönüşüm yaparken koşul da ekleyebiliriz."
      ]
    },
    {
      "cell_type": "code",
      "metadata": {
        "id": "HEef47F7678H",
        "outputId": "06dc9ab3-0485-4aa9-d946-aca421dedce1"
      },
      "source": [
        "rakamlar = [0, 1, 2, 3, 4, 5, 6, 7]\n",
        "\n",
        "cift_kareler = [rakam ** 2 \n",
        "                for rakam in rakamlar \n",
        "                if rakam % 2 == 0]\n",
        "tek_kareler = [rakam ** 2 \n",
        "               for rakam in rakamlar \n",
        "               if rakam % 2 == 1]\n",
        "\n",
        "print (cift_kareler)\n",
        "print (tek_kareler)"
      ],
      "execution_count": null,
      "outputs": [
        {
          "name": "stdout",
          "output_type": "stream",
          "text": [
            "[0, 4, 16, 36]\n",
            "[1, 9, 25, 49]\n"
          ]
        }
      ]
    },
    {
      "cell_type": "markdown",
      "metadata": {
        "id": "Iw4TzHBfbJvL"
      },
      "source": [
        "#### Listenin Elemanlarını Toplama"
      ]
    },
    {
      "cell_type": "code",
      "metadata": {
        "id": "33bhIxh-bJvL",
        "outputId": "579c244e-b7bf-44c0-b52a-c558e2358443"
      },
      "source": [
        "liste = [5,2,4,2,45,25]\n",
        "liste"
      ],
      "execution_count": null,
      "outputs": [
        {
          "data": {
            "text/plain": [
              "[5, 2, 4, 2, 45, 25]"
            ]
          },
          "execution_count": 38,
          "metadata": {},
          "output_type": "execute_result"
        }
      ]
    },
    {
      "cell_type": "markdown",
      "metadata": {
        "id": "SHisoCHMbJvL"
      },
      "source": [
        "**for döngüsü** ile liste elemanlarında tek tek gezip toplayabiliriz."
      ]
    },
    {
      "cell_type": "code",
      "metadata": {
        "id": "ihSEtwq-bJvL",
        "outputId": "eb30e9dd-08ec-42aa-ecaa-b069e76250bb"
      },
      "source": [
        "toplam = 0 \n",
        "\n",
        "for sayi in liste:\n",
        "    toplam = toplam + sayi\n",
        "\n",
        "print(toplam)"
      ],
      "execution_count": null,
      "outputs": [
        {
          "name": "stdout",
          "output_type": "stream",
          "text": [
            "83\n"
          ]
        }
      ]
    },
    {
      "cell_type": "markdown",
      "metadata": {
        "id": "grJBe-CMbJvL"
      },
      "source": [
        "`sum()` ile daha kolay bir şekilde listenin elemanlarını toplayabiliriz."
      ]
    },
    {
      "cell_type": "code",
      "metadata": {
        "id": "C1LaVjC0bJvL",
        "outputId": "a5265023-5d04-4c85-b3ff-f8615ac1b456"
      },
      "source": [
        "sum(liste)"
      ],
      "execution_count": null,
      "outputs": [
        {
          "data": {
            "text/plain": [
              "83"
            ]
          },
          "execution_count": 40,
          "metadata": {},
          "output_type": "execute_result"
        }
      ]
    },
    {
      "cell_type": "code",
      "metadata": {
        "id": "zAWPY7ZEbJvM",
        "outputId": "6ae23421-cd89-4af3-be5b-0b16ea5f2fea"
      },
      "source": [
        "liste"
      ],
      "execution_count": null,
      "outputs": [
        {
          "data": {
            "text/plain": [
              "[5, 2, 4, 2, 45, 25]"
            ]
          },
          "execution_count": 41,
          "metadata": {},
          "output_type": "execute_result"
        }
      ]
    },
    {
      "cell_type": "markdown",
      "metadata": {
        "id": "uxQM8w1mbJvM"
      },
      "source": [
        "Yalnızca belir bir koşulu sağlayan elemanları toplamak istersek **while döngüsü** kullabiliriz. Örneğin listenin **ilk dört elemanını** toplayalım."
      ]
    },
    {
      "cell_type": "code",
      "metadata": {
        "id": "jTCJMPu5bJvM",
        "outputId": "006b654c-1459-4567-d3ae-86dc7ffde4cd"
      },
      "source": [
        "toplam = 0\n",
        "i = 0\n",
        "\n",
        "while (i<4):\n",
        "    toplam = toplam + liste[i]\n",
        "    i = i + 1\n",
        "\n",
        "print(toplam)"
      ],
      "execution_count": null,
      "outputs": [
        {
          "name": "stdout",
          "output_type": "stream",
          "text": [
            "13\n"
          ]
        }
      ]
    },
    {
      "cell_type": "markdown",
      "metadata": {
        "id": "4-dtMOPfbJvM"
      },
      "source": [
        "#### Listenin En Büyük Elemanını Bulma"
      ]
    },
    {
      "cell_type": "code",
      "metadata": {
        "id": "UWJtsndAbJvM",
        "outputId": "56261951-cd05-4149-c791-b6e3baba03c9"
      },
      "source": [
        "liste = [5,2,4,2,45,25]\n",
        "liste"
      ],
      "execution_count": null,
      "outputs": [
        {
          "data": {
            "text/plain": [
              "[5, 2, 4, 2, 45, 25]"
            ]
          },
          "execution_count": 43,
          "metadata": {},
          "output_type": "execute_result"
        }
      ]
    },
    {
      "cell_type": "code",
      "metadata": {
        "id": "A836EdiobJvM",
        "outputId": "9f5abb2c-9c1a-4e51-af1c-e78ca312c276"
      },
      "source": [
        "en_buyuk = liste[0]\n",
        "\n",
        "for eleman in liste:\n",
        "    if eleman>en_buyuk:\n",
        "        en_buyuk = eleman\n",
        "\n",
        "print(en_buyuk)"
      ],
      "execution_count": null,
      "outputs": [
        {
          "name": "stdout",
          "output_type": "stream",
          "text": [
            "45\n"
          ]
        }
      ]
    },
    {
      "cell_type": "markdown",
      "metadata": {
        "id": "LaNwQCYW678K"
      },
      "source": [
        "#### Sözlükler"
      ]
    },
    {
      "cell_type": "markdown",
      "metadata": {
        "id": "PfzxddFc678L"
      },
      "source": [
        "Bir Python sözlüğünde anahtar (`key`) ve değer (`value`) saklanmaktadır."
      ]
    },
    {
      "cell_type": "code",
      "metadata": {
        "id": "6XXH3Mcb678L"
      },
      "source": [
        "meshur = {'Kayseri': 'Mantı', 'Amasya': 'Elma', 'Malatya': 'Kayısı'}  # Sözlük oluşturalım"
      ],
      "execution_count": null,
      "outputs": []
    },
    {
      "cell_type": "markdown",
      "metadata": {
        "id": "Q9scdtg3bJvN"
      },
      "source": [
        "`.keys()` ile sözlüğümüzün anahtarlarını yazdırabiliriz."
      ]
    },
    {
      "cell_type": "code",
      "metadata": {
        "id": "yyO2mBJxbJvN",
        "outputId": "2d9362b8-a8a9-43d2-e344-574b3af759f5"
      },
      "source": [
        "meshur.keys()"
      ],
      "execution_count": null,
      "outputs": [
        {
          "data": {
            "text/plain": [
              "dict_keys(['Kayseri', 'Amasya', 'Malatya'])"
            ]
          },
          "execution_count": 46,
          "metadata": {},
          "output_type": "execute_result"
        }
      ]
    },
    {
      "cell_type": "markdown",
      "metadata": {
        "id": "Ji6dU9IybJvN"
      },
      "source": [
        "`.values()` ile sözlüğümüzün değerlerini yazdırabiliriz."
      ]
    },
    {
      "cell_type": "code",
      "metadata": {
        "id": "rW7N3UHtbJvN",
        "outputId": "71d9b149-4c55-4361-d67e-5d1726308b81"
      },
      "source": [
        "meshur.values()"
      ],
      "execution_count": null,
      "outputs": [
        {
          "data": {
            "text/plain": [
              "dict_values(['Mantı', 'Elma', 'Kayısı'])"
            ]
          },
          "execution_count": 47,
          "metadata": {},
          "output_type": "execute_result"
        }
      ]
    },
    {
      "cell_type": "markdown",
      "metadata": {
        "id": "O9VHIVhjbJvN"
      },
      "source": [
        "`.items()` ile sözlüğümüzün **tüm** `key` ve `value` değerlerini yazdırabiliriz."
      ]
    },
    {
      "cell_type": "code",
      "metadata": {
        "id": "m8dFqXZZbJvN",
        "outputId": "37abc9bf-386a-4667-e020-ee58ae510a8f"
      },
      "source": [
        "meshur.items()"
      ],
      "execution_count": null,
      "outputs": [
        {
          "data": {
            "text/plain": [
              "dict_items([('Kayseri', 'Mantı'), ('Amasya', 'Elma'), ('Malatya', 'Kayısı')])"
            ]
          },
          "execution_count": 48,
          "metadata": {},
          "output_type": "execute_result"
        }
      ]
    },
    {
      "cell_type": "code",
      "metadata": {
        "id": "4wJUR87tbJvN",
        "outputId": "0ca4eb48-963c-4b2a-e3cb-d7864bc2668e"
      },
      "source": [
        "print (meshur['Malatya']) # \"Malatya\" anahtar değerine ait değer ekrana yazdırılır.\n",
        "print ('Amasya' in meshur) # \"Amasya\" anahtar değeri sözlüğümüzde varsa \"True\" döndürür. "
      ],
      "execution_count": null,
      "outputs": [
        {
          "name": "stdout",
          "output_type": "stream",
          "text": [
            "Kayısı\n",
            "True\n"
          ]
        }
      ]
    },
    {
      "cell_type": "code",
      "metadata": {
        "id": "w2_b3pJC678P",
        "outputId": "7bc78c5c-4fa4-4baa-b4ba-fe0c2f677880"
      },
      "source": [
        "meshur['İstanbul'] = 'Trafik' # Sözlüğe yeni bir girdi ekleyelim.\n",
        "meshur"
      ],
      "execution_count": null,
      "outputs": [
        {
          "data": {
            "text/plain": [
              "{'Kayseri': 'Mantı',\n",
              " 'Amasya': 'Elma',\n",
              " 'Malatya': 'Kayısı',\n",
              " 'İstanbul': 'Trafik'}"
            ]
          },
          "execution_count": 50,
          "metadata": {},
          "output_type": "execute_result"
        }
      ]
    },
    {
      "cell_type": "code",
      "metadata": {
        "id": "XU5bDAtA678S"
      },
      "source": [
        "#print (meshur['Ankara'])  # KeyError: 'Ankara' not a key of d\n",
        "\n",
        "# Ankara diye bir anahtar değerimiz olmadığı için hata verir!"
      ],
      "execution_count": null,
      "outputs": []
    },
    {
      "cell_type": "markdown",
      "metadata": {
        "id": "ZF0aaSL2bJvO"
      },
      "source": [
        "Sözlüğün içinde bir değer varsa onu getirmesini, yoksa N/A versin istiyorsak `get` yöntemini kullanabiliriz."
      ]
    },
    {
      "cell_type": "code",
      "metadata": {
        "id": "X5ldIT_o678V",
        "outputId": "1df70db4-1a9f-4752-f680-c369713dc549"
      },
      "source": [
        "print (meshur.get('Ankara', 'N/A')) # \"N/A\" döndürür\n",
        "print (meshur.get('Amasya', 'N/A')) # \"Elma\" döndürür"
      ],
      "execution_count": null,
      "outputs": [
        {
          "name": "stdout",
          "output_type": "stream",
          "text": [
            "N/A\n",
            "Elma\n"
          ]
        }
      ]
    },
    {
      "cell_type": "code",
      "metadata": {
        "id": "w6ZEz1mo678a",
        "outputId": "efc1be22-e5a6-4b43-8dfd-59c00db7f231"
      },
      "source": [
        "del meshur['Amasya']        # Sözlükten bir değeri silelim.\n",
        "print (meshur.get('Amasya', 'N/A')) # \"Amasya\" silindiği için \"N/A\" döndürür."
      ],
      "execution_count": null,
      "outputs": [
        {
          "name": "stdout",
          "output_type": "stream",
          "text": [
            "N/A\n"
          ]
        }
      ]
    },
    {
      "cell_type": "code",
      "metadata": {
        "id": "puDgiGdRbJvO",
        "outputId": "c8a365d8-17ee-47ae-f506-d3fadaa04d40"
      },
      "source": [
        "meshur"
      ],
      "execution_count": null,
      "outputs": [
        {
          "data": {
            "text/plain": [
              "{'Kayseri': 'Mantı', 'Malatya': 'Kayısı', 'İstanbul': 'Trafik'}"
            ]
          },
          "execution_count": 54,
          "metadata": {},
          "output_type": "execute_result"
        }
      ]
    },
    {
      "cell_type": "markdown",
      "metadata": {
        "id": "wHauFaOD678c"
      },
      "source": [
        "Sözlüklerle ilgili daha fazla bilgi için [dokümana](https://docs.python.org/3/tutorial/datastructures.html#dictionaries) bakabilirsiniz."
      ]
    },
    {
      "cell_type": "markdown",
      "metadata": {
        "id": "JELVcmGP678d"
      },
      "source": [
        "Sözlük üzerinde `for` döngüsü ile gezinmek mümkündür. "
      ]
    },
    {
      "cell_type": "code",
      "metadata": {
        "id": "C9ruJOys678d",
        "outputId": "228f685b-1418-483c-e23a-9b8ee4d10b96"
      },
      "source": [
        "canlilar = {'İnsan': 2, 'Kedi': 4, 'Örümcek': 8}\n",
        "\n",
        "for canli in canlilar:\n",
        "    ayak = canlilar[canli]\n",
        "    print('%s, %d ayağa sahiptir.' % (canli, ayak))"
      ],
      "execution_count": null,
      "outputs": [
        {
          "name": "stdout",
          "output_type": "stream",
          "text": [
            "İnsan, 2 ayağa sahiptir.\n",
            "Kedi, 4 ayağa sahiptir.\n",
            "Örümcek, 8 ayağa sahiptir.\n"
          ]
        }
      ]
    },
    {
      "cell_type": "markdown",
      "metadata": {
        "id": "lIzRQoUo678g"
      },
      "source": [
        "Sözlük değerlerine `items()` yöntemiyle de ulaşabiliriz."
      ]
    },
    {
      "cell_type": "code",
      "metadata": {
        "id": "MJkUk7o4678h",
        "outputId": "271fc7eb-7a3b-4adb-e420-30dc640f7be3"
      },
      "source": [
        "canlilar = {'İnsan': 2, 'Kedi': 4, 'Örümcek': 8}\n",
        "\n",
        "for canli, ayak in canlilar.items():\n",
        "    print ('%s, %d ayağa sahiptir.' % (canli, ayak))"
      ],
      "execution_count": null,
      "outputs": [
        {
          "name": "stdout",
          "output_type": "stream",
          "text": [
            "İnsan, 2 ayağa sahiptir.\n",
            "Kedi, 4 ayağa sahiptir.\n",
            "Örümcek, 8 ayağa sahiptir.\n"
          ]
        }
      ]
    },
    {
      "cell_type": "markdown",
      "metadata": {
        "id": "LFkluXupbJvP"
      },
      "source": [
        "Aynı şekilde `keys()` ya da `values()` değerlerine de bir `for döngüsü` ile ulaşabiliriz."
      ]
    },
    {
      "cell_type": "code",
      "metadata": {
        "id": "j_GzYTDmbJvP",
        "outputId": "440dbc7f-aead-4774-bf6f-78f634ce1d6a"
      },
      "source": [
        "for canli in canlilar.keys():\n",
        "    print (canli)"
      ],
      "execution_count": null,
      "outputs": [
        {
          "name": "stdout",
          "output_type": "stream",
          "text": [
            "İnsan\n",
            "Kedi\n",
            "Örümcek\n"
          ]
        }
      ]
    },
    {
      "cell_type": "code",
      "metadata": {
        "id": "05m0ZqHbbJvP",
        "outputId": "282e6764-7885-4670-bdcb-cfeb50574f1e"
      },
      "source": [
        "for ayak in canlilar.values():\n",
        "    print (ayak)"
      ],
      "execution_count": null,
      "outputs": [
        {
          "name": "stdout",
          "output_type": "stream",
          "text": [
            "2\n",
            "4\n",
            "8\n"
          ]
        }
      ]
    },
    {
      "cell_type": "markdown",
      "metadata": {
        "id": "gZqZiFNe678m"
      },
      "source": [
        "#### Sözlük Dönüşümü\n",
        "\n",
        "Listelerden sözlük oluşturabiliriz."
      ]
    },
    {
      "cell_type": "code",
      "metadata": {
        "id": "l0SQvsLT678m",
        "outputId": "7e0f5b8c-ea1e-4a3e-ac16-16d019240484"
      },
      "source": [
        "sayilar = [0, 1, 2, 3, 4, 5, 6, 7, 8, 9]\n",
        "cift_kare = {x: x ** 2 for x in sayilar  if x % 2 == 0}\n",
        "print (cift_kare)"
      ],
      "execution_count": null,
      "outputs": [
        {
          "name": "stdout",
          "output_type": "stream",
          "text": [
            "{0: 0, 2: 4, 4: 16, 6: 36, 8: 64}\n"
          ]
        }
      ]
    },
    {
      "cell_type": "markdown",
      "metadata": {
        "id": "mRmrvC40bJvP"
      },
      "source": [
        "**İPUCU**: Listelerin köşeli parantez `[]`, sözlüklerin ise süslü parantez `{}` ile tanımlandığını unutmayın."
      ]
    },
    {
      "cell_type": "markdown",
      "metadata": {
        "id": "ct0A73Vz678p"
      },
      "source": [
        "#### Kümeler (Sets)"
      ]
    },
    {
      "cell_type": "markdown",
      "metadata": {
        "id": "vNZyJBgM678q"
      },
      "source": [
        "Kümeleri de süslü parantez ile tanımlarız. Listelerden en büyük farklı sıralı olmamasıdır. "
      ]
    },
    {
      "cell_type": "code",
      "metadata": {
        "id": "_OP2UEYu678q",
        "outputId": "87b09a0f-ee82-4756-f511-fc1f1fff57b2"
      },
      "source": [
        "hayvanlar = {'kedi', 'köpek'}\n",
        "\n",
        "print ('kedi' in hayvanlar)   # Kümede o elemanın olup olmadığına bakalım = \"True\"\n",
        "print ('balık' in hayvanlar)  # Kümede o elemanın olup olmadığına bakalım = \"False\""
      ],
      "execution_count": null,
      "outputs": [
        {
          "name": "stdout",
          "output_type": "stream",
          "text": [
            "True\n",
            "False\n"
          ]
        }
      ]
    },
    {
      "cell_type": "code",
      "metadata": {
        "id": "OzWCwG3J678t",
        "outputId": "b62eb3bb-a504-483c-b726-cab29b829568"
      },
      "source": [
        "hayvanlar.add('balık')       # Kümeye eleman ekleyelim\n",
        "print ('balık' in hayvanlar)\n",
        "\n",
        "print (len(hayvanlar))       # Kümenin eleman sayısını ekrana yazdıralım"
      ],
      "execution_count": null,
      "outputs": [
        {
          "name": "stdout",
          "output_type": "stream",
          "text": [
            "True\n",
            "3\n"
          ]
        }
      ]
    },
    {
      "cell_type": "code",
      "metadata": {
        "id": "frKetwK4678w",
        "outputId": "21642aa5-f82e-4387-f665-d5f0fb0d4af2"
      },
      "source": [
        "hayvanlar.add('kedi')       # Kedi zaten olduğu için değişen bir şey olmayacak\n",
        "print (len(hayvanlar))       \n",
        "hayvanlar.remove('kedi')    # Kümeden bir elemanı kaldıralım.\n",
        "print (len(hayvanlar))       "
      ],
      "execution_count": null,
      "outputs": [
        {
          "name": "stdout",
          "output_type": "stream",
          "text": [
            "3\n",
            "2\n"
          ]
        }
      ]
    },
    {
      "cell_type": "markdown",
      "metadata": {
        "id": "WheWc5ey678z"
      },
      "source": [
        "_Döngüler_: Küme elemanlarına da `for` döngüsü ile ulaşabiliriz. Fakat kümelerin sıralı listeler olmadığını unutmayın. Örneğin aşağıda _kedi köpek balık_ sırasıyla tanımladığımız kümenin elemanlarına ulaşmaya çalıştığımızda hangi sıra olacak sizce? "
      ]
    },
    {
      "cell_type": "code",
      "metadata": {
        "id": "3xfvgtNA6780",
        "outputId": "98069d69-4e86-401d-9557-70fe90e0eca7"
      },
      "source": [
        "hayvanlar = {'kedi', 'köpek', 'balık'}\n",
        "\n",
        "for sira, hayvan in enumerate(hayvanlar):\n",
        "    print ('#%d: %s' % (sira + 1, hayvan))    "
      ],
      "execution_count": null,
      "outputs": [
        {
          "name": "stdout",
          "output_type": "stream",
          "text": [
            "#1: balık\n",
            "#2: kedi\n",
            "#3: köpek\n"
          ]
        }
      ]
    },
    {
      "cell_type": "markdown",
      "metadata": {
        "id": "E4KVAgQr6783"
      },
      "source": [
        "Liste ve sözlük dönüşümlerine benzer bir şekilde hızlıca küme oluşturabiliriz."
      ]
    },
    {
      "cell_type": "code",
      "metadata": {
        "id": "cP9_9bK46783",
        "outputId": "c27f4bf1-d67e-4f05-db26-1bab567e9974"
      },
      "source": [
        "from math import sqrt\n",
        "\n",
        "print ({sqrt(x) for x in list(range(30))})"
      ],
      "execution_count": null,
      "outputs": [
        {
          "name": "stdout",
          "output_type": "stream",
          "text": [
            "{0.0, 1.0, 2.0, 1.7320508075688772, 1.4142135623730951, 2.23606797749979, 2.449489742783178, 2.6457513110645907, 2.8284271247461903, 3.0, 3.1622776601683795, 3.3166247903554, 3.4641016151377544, 4.0, 5.0, 4.47213595499958, 4.795831523312719, 4.898979485566356, 5.0990195135927845, 5.196152422706632, 5.291502622129181, 3.7416573867739413, 3.872983346207417, 4.123105625617661, 4.242640687119285, 4.358898943540674, 4.58257569495584, 4.69041575982343, 5.385164807134504, 3.605551275463989}\n"
          ]
        }
      ]
    },
    {
      "cell_type": "markdown",
      "metadata": {
        "id": "VsKimR19bJvR"
      },
      "source": [
        "**İPUCU**: Kümeler sıralı listeler olmadığı için köklü değerleri sıralı olarak göremeyeceksiniz."
      ]
    },
    {
      "cell_type": "markdown",
      "metadata": {
        "id": "SzvCeQ3P6786"
      },
      "source": [
        "#### Demetler (Tuples)"
      ]
    },
    {
      "cell_type": "markdown",
      "metadata": {
        "id": "p-skzG_96786"
      },
      "source": [
        "Demetler sabit (değişmez) sıralı değerlerden oluşan listelerdir. Demetlerin listelerden en büyük farkı, listeler sözlüklerde anahtar (key) olarak ya da kümelerin elemanı olarak kullanılabilmektedir. Demetler bu şekilde kullanılamazlar.\n",
        "\n",
        "**İPUCU**: Demetler normal parantez `()`ile tanımlanır."
      ]
    },
    {
      "cell_type": "code",
      "metadata": {
        "id": "wG4JWdaF6787",
        "outputId": "f5ef9189-905c-460f-bc93-6cf2aac7cb8a"
      },
      "source": [
        "sozluk = {(x, x + 1): x for x in range(10)}  # Demetlerin anahtar olduğu bir sözlük oluşturalım\n",
        "\n",
        "sozluk"
      ],
      "execution_count": null,
      "outputs": [
        {
          "data": {
            "text/plain": [
              "{(0, 1): 0,\n",
              " (1, 2): 1,\n",
              " (2, 3): 2,\n",
              " (3, 4): 3,\n",
              " (4, 5): 4,\n",
              " (5, 6): 5,\n",
              " (6, 7): 6,\n",
              " (7, 8): 7,\n",
              " (8, 9): 8,\n",
              " (9, 10): 9}"
            ]
          },
          "execution_count": 65,
          "metadata": {},
          "output_type": "execute_result"
        }
      ]
    },
    {
      "cell_type": "code",
      "metadata": {
        "id": "jXGkopWebJvR",
        "outputId": "b06b3efa-5c22-476c-8aca-0d2392ebbb1c"
      },
      "source": [
        "demet = (5, 6)       # Demet oluşturalım.\n",
        "print (type(demet))\n",
        "print (sozluk[demet]) # t demeti kaçıncı elemandır?       \n",
        "print (sozluk[(1, 2)]) # (1, 2) demeti kaçıncı elemandır?"
      ],
      "execution_count": null,
      "outputs": [
        {
          "name": "stdout",
          "output_type": "stream",
          "text": [
            "<class 'tuple'>\n",
            "5\n",
            "1\n"
          ]
        }
      ]
    },
    {
      "cell_type": "code",
      "metadata": {
        "id": "Men1uVfb679B",
        "outputId": "940f7aa3-7c42-4e9a-9681-890b6b24f852"
      },
      "source": [
        "print(demet[1]) # demetin ikinci elemanına ulaşalım\n",
        "\n",
        "print(demet[0]) # demetin ilk elemanına ulaşalım"
      ],
      "execution_count": null,
      "outputs": [
        {
          "name": "stdout",
          "output_type": "stream",
          "text": [
            "6\n",
            "5\n"
          ]
        }
      ]
    },
    {
      "cell_type": "markdown",
      "metadata": {
        "id": "zRSvC60r679G"
      },
      "source": [
        "### Fonksiyonlar"
      ]
    },
    {
      "cell_type": "markdown",
      "metadata": {
        "id": "4UxE6oEr679H"
      },
      "source": [
        "Python'da fonksiyonlar  `def` anahtar kelimesi ile tanımlanır. \n",
        "\n",
        "Fonksiyon isiminden sonra parantez içerisinde giriş değerleri sonra da *iki nokta üst üste* konulur. \n",
        "\n",
        "Örnek olarak bir sayının pozitif, negatif ya da sıfır olup olmadığını kontrol eden `isaret` fonksiyonunu tanımlayalım:"
      ]
    },
    {
      "cell_type": "code",
      "metadata": {
        "colab": {
          "base_uri": "https://localhost:8080/",
          "height": 68
        },
        "id": "7VPkd05d679H",
        "outputId": "69c3667d-588b-4849-857c-44991a42696e"
      },
      "source": [
        "def isaret(x):\n",
        "    if x > 0:\n",
        "        return 'pozitif'\n",
        "    elif x < 0:\n",
        "        return 'negatif'\n",
        "    else:\n",
        "        return 'sifir'\n",
        "\n",
        "for x in [-1, 0, 1]:\n",
        "    print (isaret(x))"
      ],
      "execution_count": null,
      "outputs": [
        {
          "name": "stdout",
          "output_type": "stream",
          "text": [
            "negatif\n",
            "sifir\n",
            "pozitif\n"
          ]
        }
      ]
    },
    {
      "cell_type": "markdown",
      "metadata": {
        "id": "Y7kgWgHD679K"
      },
      "source": [
        "Fonksiyonlarda **isteğe bağlı (opsiyonel)** parametreler tanımlamak mümkündür."
      ]
    },
    {
      "cell_type": "code",
      "metadata": {
        "id": "JCf-kMsw679L",
        "outputId": "dccb14bc-dc7c-4ba1-9b4e-eb92236d8960"
      },
      "source": [
        "def merhaba(isim, buyukHarf = False):\n",
        "    if buyukHarf:\n",
        "        print ('MERHABA, %s' % isim.upper())\n",
        "    else:\n",
        "        print ('Merhaba, %s!' % isim)\n",
        "\n",
        "merhaba('Fuat')\n",
        "merhaba('Fuat', buyukHarf = True)"
      ],
      "execution_count": null,
      "outputs": [
        {
          "name": "stdout",
          "output_type": "stream",
          "text": [
            "Merhaba, Fuat!\n",
            "MERHABA, FUAT\n"
          ]
        }
      ]
    },
    {
      "cell_type": "markdown",
      "metadata": {
        "id": "JBSL5VbzbJvS"
      },
      "source": [
        "Eğer fonksiyonunumuzun giriş parametrelerini önceden tanımlamak istemiyorsak `*args` kullanabiliriz. Aşağıdaki fonksiyon kaç tane giriş parametresi girildiyse hepsini çarpmaktadır."
      ]
    },
    {
      "cell_type": "code",
      "metadata": {
        "id": "MC1H8ED4bJvS",
        "outputId": "a30b5874-1ff6-4020-db03-c9043dd9e482"
      },
      "source": [
        "def carp(*args):\n",
        "    sonuc = 1\n",
        "    for sayi in args:\n",
        "        sonuc *= sayi\n",
        "    print(sonuc)\n",
        "\n",
        "carp(4, 1)\n",
        "carp(6, 2)\n",
        "carp(11, 5, 2)\n",
        "carp(9, 3, 0, 4)"
      ],
      "execution_count": null,
      "outputs": [
        {
          "name": "stdout",
          "output_type": "stream",
          "text": [
            "4\n",
            "12\n",
            "110\n",
            "0\n"
          ]
        }
      ]
    },
    {
      "cell_type": "markdown",
      "metadata": {
        "id": "F68yc4OzbJvS"
      },
      "source": [
        "Fonksiyonumuzu hızlıca tanımlamak istiyorsak `lambda` yı kullanabiliriz."
      ]
    },
    {
      "cell_type": "code",
      "metadata": {
        "id": "OJX38bg3bJvT",
        "outputId": "6d949acd-faff-4fb3-a695-50214e3ae252"
      },
      "source": [
        "# Çemberin Çevresini Bulan Fonksiyon\n",
        "\n",
        "cevre = lambda r, pi : (2 * pi * r)\n",
        "\n",
        "cevre(5,3.14)"
      ],
      "execution_count": null,
      "outputs": [
        {
          "data": {
            "text/plain": [
              "31.400000000000002"
            ]
          },
          "execution_count": 71,
          "metadata": {},
          "output_type": "execute_result"
        }
      ]
    },
    {
      "cell_type": "markdown",
      "metadata": {
        "id": "Bm13r-al679M"
      },
      "source": [
        "### Sınıflar (Classes)"
      ]
    },
    {
      "cell_type": "markdown",
      "metadata": {
        "id": "cC4JBHCf679M"
      },
      "source": [
        "Python'da sınıfları şu şekilde tanımlarız:"
      ]
    },
    {
      "cell_type": "code",
      "metadata": {
        "id": "f1p7mDD6679N",
        "outputId": "06e4863c-bfa9-43b2-f6ae-a93a3ae026ca"
      },
      "source": [
        "class Karsilayici:\n",
        "\n",
        "    # Oluşturma\n",
        "    def __init__(self, isim):\n",
        "        self.isim = isim  # Örnek (instance) değişkeni tanımlayalım\n",
        "\n",
        "    # Örnek (instance) yöntemi\n",
        "    def selam(self, buyukHarf = False):\n",
        "        if buyukHarf:\n",
        "            print ('MERHABA, %s!' % self.isim.upper())\n",
        "        else:\n",
        "            print ('Merhaba, %s' % self.isim)\n",
        "\n",
        "g = Karsilayici('Fuat')     # Karşılayıcı sınıfında bir örnek oluşturalım \n",
        "g.selam()                   # Merhaba, Fuat\n",
        "g.selam(buyukHarf = True)   # MERHABA, FUAT!"
      ],
      "execution_count": null,
      "outputs": [
        {
          "name": "stdout",
          "output_type": "stream",
          "text": [
            "Merhaba, Fuat\n",
            "MERHABA, FUAT!\n"
          ]
        }
      ]
    }
  ]
}