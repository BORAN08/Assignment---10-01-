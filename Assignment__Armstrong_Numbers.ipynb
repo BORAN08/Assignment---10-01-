{
  "nbformat": 4,
  "nbformat_minor": 0,
  "metadata": {
    "colab": {
      "name": "Assignment _Armstrong Numbers.ipynb",
      "provenance": [],
      "collapsed_sections": []
    },
    "kernelspec": {
      "name": "python3",
      "display_name": "Python 3"
    },
    "language_info": {
      "name": "python"
    }
  },
  "cells": [
    {
      "cell_type": "code",
      "metadata": {
        "colab": {
          "base_uri": "https://localhost:8080/"
        },
        "id": "szDRb3WTK366",
        "outputId": "10d7620d-d287-4885-c815-1e2e9ea6de0a"
      },
      "source": [
        "num = input(\"Please enter a positive number: \")\n",
        "num_=0\n",
        "if not num.isdigit():\n",
        "  print(\"It is an invalid entry. Don't use non-numeric, float, or negative values!\")\n",
        "else:\n",
        "  for i in num:\n",
        "    num_+=int(i)**len(num)\n",
        "  if num_==int(num):\n",
        "    print(f\"{num} is an Armstrong number\")\n",
        "  else:\n",
        "    print(f\"{num} is not an Armstrong number\")"
      ],
      "execution_count": 14,
      "outputs": [
        {
          "output_type": "stream",
          "name": "stdout",
          "text": [
            "Please enter a positive number: 371\n",
            "371 is an Armstrong number\n"
          ]
        }
      ]
    },
    {
      "cell_type": "code",
      "metadata": {
        "id": "0errd98JNjpp"
      },
      "source": [
        ""
      ],
      "execution_count": null,
      "outputs": []
    }
  ]
}